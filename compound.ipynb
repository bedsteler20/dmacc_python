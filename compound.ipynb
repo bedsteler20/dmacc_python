{
 "cells": [
  {
   "cell_type": "code",
   "execution_count": 1,
   "metadata": {},
   "outputs": [
    {
     "name": "stdout",
     "output_type": "stream",
     "text": [
      "False\n",
      "False\n",
      "True\n",
      "True\n",
      "True\n"
     ]
    }
   ],
   "source": [
    "MAX = 10\n",
    "MIN = 0\n",
    "\n",
    "y = 6\n",
    "x = 5\n",
    "\n",
    "print(y > MAX)\n",
    "print(y < MIN)\n",
    "print(MIN < x < MAX)\n",
    "print(MIN <= x < MAX)\n",
    "print(MIN < x <= MAX)"
   ]
  }
 ],
 "metadata": {
  "kernelspec": {
   "display_name": ".venv",
   "language": "python",
   "name": "python3"
  },
  "language_info": {
   "codemirror_mode": {
    "name": "ipython",
    "version": 3
   },
   "file_extension": ".py",
   "mimetype": "text/x-python",
   "name": "python",
   "nbconvert_exporter": "python",
   "pygments_lexer": "ipython3",
   "version": "3.12.5"
  }
 },
 "nbformat": 4,
 "nbformat_minor": 2
}
